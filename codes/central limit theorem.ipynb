{
 "cells": [
  {
   "cell_type": "code",
   "execution_count": 39,
   "metadata": {},
   "outputs": [
    {
     "name": "stdout",
     "output_type": "stream",
     "text": [
      "(10000,)\n",
      "4.4781185101939975\n",
      "0.7433727829605522\n",
      "--------------------------------------------\n",
      "2.831512802003999e-16\n",
      "1.330687079790378\n"
     ]
    },
    {
     "data": {
      "image/png": "[encoded data removed]",
      "text/plain": [
       "<Figure size 432x288 with 1 Axes>"
      ]
     },
     "metadata": {
      "needs_background": "light"
     },
     "output_type": "display_data"
    }
   ],
   "source": [
    "import numpy as np\n",
    "import matplotlib.pyplot as plt\n",
    "a = np.random.rand(10000)\n",
    "a_m = np.mean(a)\n",
    "a_v = np.var(a)\n",
    "b = np.random.rand(10000)\n",
    "b_m = np.mean(b)\n",
    "b_v = np.var(b)\n",
    "c = np.random.rand(10000)\n",
    "c_m = np.mean(c)\n",
    "c_v = np.var(c)\n",
    "d = np.random.rand(10000)\n",
    "d_m = np.mean(d)\n",
    "d_v = np.var(d)\n",
    "e = np.random.rand(10000)\n",
    "e_m = np.mean(e)\n",
    "e_v = np.var(e)\n",
    "f = np.random.rand(10000)\n",
    "f_m = np.mean(f)\n",
    "f_v = np.var(f)\n",
    "g = np.random.rand(10000)\n",
    "g_m = np.mean(g)\n",
    "g_v = np.var(g)\n",
    "h = np.random.rand(10000)\n",
    "h_m = np.mean(h)\n",
    "h_v = np.var(h)\n",
    "i = np.random.rand(10000)\n",
    "i_m = np.mean(i)\n",
    "i_v = np.var(i)\n",
    "\n",
    "jam = a+b+c+d+e+f+g+h+i\n",
    "jam_m = a_m+b_m+c_m+d_m+e_m+f_m+g_m+h_m+i_m\n",
    "jam_v = a_v+b_v+c_v+d_v+e_v+f_v+g_v+h_v+i_v\n",
    "\n",
    "natije = (jam-jam_m)/jam_v\n",
    "print (np.shape(natije))\n",
    "print (np.mean(jam))\n",
    "print (np.var(jam))\n",
    "print ('--------------------------------------------')\n",
    "print (np.mean(natije))\n",
    "print (np.var(natije))\n",
    "plt.hist(jam)\n",
    "plt.hist(natije)\n",
    "plt.legend(['jam','natije'])\n",
    "plt.show()"
   ]
  },
  {
   "cell_type": "code",
   "execution_count": null,
   "metadata": {},
   "outputs": [],
   "source": []
  }
 ],
 "metadata": {
  "kernelspec": {
   "display_name": "Python 3",
   "language": "python",
   "name": "python3"
  },
  "language_info": {
   "codemirror_mode": {
    "name": "ipython",
    "version": 3
   },
   "file_extension": ".py",
   "mimetype": "text/x-python",
   "name": "python",
   "nbconvert_exporter": "python",
   "pygments_lexer": "ipython3",
   "version": "3.7.6"
  }
 },
 "nbformat": 4,
 "nbformat_minor": 4
}
